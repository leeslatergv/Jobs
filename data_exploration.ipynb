{
 "cells": [
  {
   "cell_type": "code",
   "execution_count": null,
   "metadata": {},
   "outputs": [
    {
     "name": "stdout",
     "output_type": "stream",
     "text": [
      "Found 66 webscrape CSV files\n",
      "Reference headers from webscrape_2023-08-15_09-20-02.csv: ['title', 'company', 'location', 'salary', 'description']\n",
      "\n",
      "All files have identical column headers!\n"
     ]
    }
   ],
   "source": [
    "import pandas as pd\n",
    "import glob\n",
    "import os\n",
    "\n",
    "# Get the parent directory path\n",
    "current_dir = os.getcwd()\n",
    "parent_dir = os.path.dirname(current_dir)\n",
    "\n",
    "# Find all files in the parent directory matching the webscrape pattern\n",
    "csv_pattern = os.path.join(parent_dir, \"webscrape_*.csv\")\n",
    "csv_files = glob.glob(csv_pattern)\n",
    "\n",
    "# Store column headers for each file\n",
    "all_headers = {}\n",
    "consistent = True\n",
    "first_file = None\n",
    "\n",
    "print(f\"Found {len(csv_files)} webscrape CSV files\")\n",
    "\n",
    "# Loop through each file and get headers\n",
    "for file in csv_files:\n",
    "    filename = os.path.basename(file)\n",
    "    \n",
    "    # Just read the headers without loading entire file\n",
    "    headers = pd.read_csv(file, nrows=0).columns.tolist()\n",
    "    all_headers[filename] = headers\n",
    "    \n",
    "    # Store first file's headers as reference\n",
    "    if first_file is None:\n",
    "        first_file = filename\n",
    "        reference_headers = headers\n",
    "        print(f\"Reference headers from {first_file}: {reference_headers}\")\n",
    "    # Compare current file with reference\n",
    "    elif headers != reference_headers:\n",
    "        consistent = False\n",
    "        print(f\"\\nMISMATCH in {filename}:\")\n",
    "        \n",
    "        # Find and show differences\n",
    "        missing = set(reference_headers) - set(headers)\n",
    "        extra = set(headers) - set(reference_headers)\n",
    "        \n",
    "        if missing:\n",
    "            print(f\"  Missing columns: {missing}\")\n",
    "        if extra:\n",
    "            print(f\"  Extra columns: {extra}\")\n",
    "\n",
    "# Print final result\n",
    "if consistent:\n",
    "    print(\"\\nAll files have identical column headers\")\n",
    "else:\n",
    "    print(\"\\nWarning: Column headers differ between files\")"
   ]
  },
  {
   "cell_type": "code",
   "execution_count": null,
   "metadata": {},
   "outputs": [],
   "source": []
  }
 ],
 "metadata": {
  "kernelspec": {
   "display_name": "base",
   "language": "python",
   "name": "python3"
  },
  "language_info": {
   "codemirror_mode": {
    "name": "ipython",
    "version": 3
   },
   "file_extension": ".py",
   "mimetype": "text/x-python",
   "name": "python",
   "nbconvert_exporter": "python",
   "pygments_lexer": "ipython3",
   "version": "3.10.16"
  }
 },
 "nbformat": 4,
 "nbformat_minor": 2
}
